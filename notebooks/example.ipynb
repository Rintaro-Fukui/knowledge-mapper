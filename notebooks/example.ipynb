{
 "cells": [
  {
   "cell_type": "code",
   "execution_count": 1,
   "metadata": {},
   "outputs": [],
   "source": [
    "import kmapper as km"
   ]
  },
  {
   "cell_type": "code",
   "execution_count": 2,
   "metadata": {},
   "outputs": [
    {
     "name": "stdout",
     "output_type": "stream",
     "text": [
      "Hello World!\n"
     ]
    }
   ],
   "source": [
    "km.sample_func()"
   ]
  },
  {
   "cell_type": "code",
   "execution_count": 3,
   "metadata": {},
   "outputs": [],
   "source": [
    "texts = [\n",
    "    ['human', 'interface', 'computer'],\n",
    "    ['survey', 'user', 'computer', 'system', 'response', 'time'],\n",
    "    ['eps', 'user', 'interface', 'system'],\n",
    "    ['system', 'human', 'system', 'eps'],\n",
    "    ['user', 'response', 'time'],\n",
    "    ['trees'],\n",
    "    ['graph', 'trees'],\n",
    "    ['graph', 'minors', 'trees'],\n",
    "    ['graph', 'minors', 'survey'],\n",
    "]"
   ]
  },
  {
   "cell_type": "code",
   "execution_count": 4,
   "metadata": {},
   "outputs": [],
   "source": [
    "topic_list, topic_probabilities = km.topic_analysis(texts)"
   ]
  },
  {
   "cell_type": "code",
   "execution_count": 9,
   "metadata": {},
   "outputs": [
    {
     "data": {
      "text/plain": [
       "[(0,\n",
       "  '0.264*trees + 0.188*graph + 0.140*time + 0.101*interface + 0.081*system + 0.072*response + 0.042*eps + 0.039*minors + 0.034*survey + 0.031*computer'),\n",
       " (1,\n",
       "  '0.222*graph + 0.148*trees + 0.123*response + 0.121*time + 0.087*system + 0.078*computer + 0.060*user + 0.052*eps + 0.043*survey + 0.030*interface'),\n",
       " (2,\n",
       "  '0.227*user + 0.199*response + 0.163*survey + 0.141*graph + 0.110*system + 0.079*interface + 0.020*human + 0.017*time + 0.014*eps + 0.013*minors'),\n",
       " (3,\n",
       "  '0.305*response + 0.154*minors + 0.120*graph + 0.090*human + 0.089*survey + 0.087*user + 0.078*interface + 0.026*system + 0.021*trees + 0.020*computer'),\n",
       " (4,\n",
       "  '0.409*interface + 0.134*computer + 0.122*eps + 0.078*trees + 0.061*graph + 0.043*user + 0.039*minors + 0.037*survey + 0.034*human + 0.017*time')]"
      ]
     },
     "execution_count": 9,
     "metadata": {},
     "output_type": "execute_result"
    }
   ],
   "source": [
    "topic_list[:5]"
   ]
  },
  {
   "cell_type": "code",
   "execution_count": 11,
   "metadata": {},
   "outputs": [
    {
     "data": {
      "text/plain": [
       "[(0, 0.07126858001574898),\n",
       " (1, 0.7882504621139135),\n",
       " (2, 0.0356143436743835),\n",
       " (3, 0.02654097064945034),\n",
       " (4, 0.019935383808854873),\n",
       " (5, 0.014886165860698845),\n",
       " (6, 0.011160560130158302)]"
      ]
     },
     "execution_count": 11,
     "metadata": {},
     "output_type": "execute_result"
    }
   ],
   "source": [
    "topic_probabilities[0]"
   ]
  },
  {
   "cell_type": "code",
   "execution_count": null,
   "metadata": {},
   "outputs": [],
   "source": []
  }
 ],
 "metadata": {
  "kernelspec": {
   "display_name": "kmapper_dev",
   "language": "python",
   "name": "python3"
  },
  "language_info": {
   "codemirror_mode": {
    "name": "ipython",
    "version": 3
   },
   "file_extension": ".py",
   "mimetype": "text/x-python",
   "name": "python",
   "nbconvert_exporter": "python",
   "pygments_lexer": "ipython3",
   "version": "3.9.18"
  }
 },
 "nbformat": 4,
 "nbformat_minor": 2
}
