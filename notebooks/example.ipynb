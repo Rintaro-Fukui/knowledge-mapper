{
 "cells": [
  {
   "cell_type": "code",
   "execution_count": 1,
   "metadata": {},
   "outputs": [],
   "source": [
    "import kmapper as km"
   ]
  },
  {
   "cell_type": "code",
   "execution_count": 2,
   "metadata": {},
   "outputs": [
    {
     "name": "stdout",
     "output_type": "stream",
     "text": [
      "Hello World!\n"
     ]
    }
   ],
   "source": [
    "km.sample_func()"
   ]
  },
  {
   "cell_type": "code",
   "execution_count": 3,
   "metadata": {},
   "outputs": [],
   "source": [
    "texts = [\n",
    "    ['human', 'interface', 'computer'],\n",
    "    ['survey', 'user', 'computer', 'system', 'response', 'time'],\n",
    "    ['eps', 'user', 'interface', 'system'],\n",
    "    ['system', 'human', 'system', 'eps'],\n",
    "    ['user', 'response', 'time'],\n",
    "    ['trees'],\n",
    "    ['graph', 'trees'],\n",
    "    ['graph', 'minors', 'trees'],\n",
    "    ['graph', 'minors', 'survey'],\n",
    "]"
   ]
  },
  {
   "cell_type": "code",
   "execution_count": 4,
   "metadata": {},
   "outputs": [],
   "source": [
    "topic_list, topic_probabilities = km.topic_analysis(texts)"
   ]
  },
  {
   "cell_type": "code",
   "execution_count": 5,
   "metadata": {},
   "outputs": [],
   "source": [
    "dendrogram = km.clustering(\n",
    "    topic_probabilities,\n",
    "    len(topic_list),\n",
    "    labels=[f'text:{i}' for i in range(len(texts))]\n",
    ")"
   ]
  },
  {
   "cell_type": "code",
   "execution_count": 6,
   "metadata": {},
   "outputs": [],
   "source": [
    "tree_data = km.convert_to_json(dendrogram['leaves'])"
   ]
  },
  {
   "cell_type": "code",
   "execution_count": 7,
   "metadata": {},
   "outputs": [
    {
     "data": {
      "text/html": [
       "\n",
       "    <!DOCTYPE html>\n",
       "    <html>\n",
       "    <head>\n",
       "    <meta charset=\"utf-8\">\n",
       "    <style>\n",
       "        /* スタイル定義（必要に応じてカスタマイズ） */\n",
       "        .node circle {\n",
       "            fill: #fff;\n",
       "            stroke: steelblue;\n",
       "            stroke-width: 3px;\n",
       "        }\n",
       "        .node text { font: 12px sans-serif; }\n",
       "        .link {\n",
       "            fill: none;\n",
       "            stroke: #ccc;\n",
       "            stroke-width: 2px;\n",
       "        }\n",
       "    </style>\n",
       "    </head>\n",
       "    <body>\n",
       "        <div id=\"tree-container\"></div>\n",
       "        <script src=\"https://d3js.org/d3.v5.min.js\"></script>\n",
       "        <script>\n",
       "            var treeData = {\"name\": \"\", \"children\": [{\"name\": \"5\"}, {\"name\": \"6\"}, {\"name\": \"7\"}, {\"name\": \"8\"}, {\"name\": \"0\"}, {\"name\": \"3\"}, {\"name\": \"2\"}, {\"name\": \"1\"}, {\"name\": \"4\"}]};\n",
       "\n",
       "            var margin = {top: 40, right: 120, bottom: 20, left: 120},\n",
       "                width = 960 - margin.right - margin.left,\n",
       "                height = 800 - margin.top - margin.bottom;\n",
       "\n",
       "            var treemap = d3.tree().size([height, width]);\n",
       "            var nodes = d3.hierarchy(treeData, function(d) { return d.children; });\n",
       "            nodes = treemap(nodes);\n",
       "\n",
       "            var svg = d3.select(\"#tree-container\").append(\"svg\")\n",
       "                .attr(\"width\", width + margin.right + margin.left)\n",
       "                .attr(\"height\", height + margin.top + margin.bottom)\n",
       "                .append(\"g\")\n",
       "                .attr(\"transform\", \"translate(\" + margin.left + \",\" + margin.top + \")\");\n",
       "\n",
       "            var g = svg.selectAll(\".node\")\n",
       "                .data(nodes.descendants())\n",
       "                .enter().append(\"g\")\n",
       "                .attr(\"class\", function(d) {\n",
       "                    return \"node\" + (d.children ? \" node--internal\" : \" node--leaf\"); })\n",
       "                .attr(\"transform\", function(d) {\n",
       "                    return \"translate(\" + d.y + \",\" + d.x + \")\"; });\n",
       "\n",
       "            g.append(\"circle\")\n",
       "                .attr(\"r\", 10);\n",
       "\n",
       "            g.append(\"text\")\n",
       "                .attr(\"dy\", \".35em\")\n",
       "                .attr(\"x\", function(d) {\n",
       "                    return d.children ? -13 : 13; })\n",
       "                .style(\"text-anchor\", function(d) {\n",
       "                    return d.children ? \"end\" : \"start\"; })\n",
       "                .text(function(d) { return d.data.name; });\n",
       "\n",
       "            svg.selectAll(\".link\")\n",
       "                .data(nodes.descendants().slice(1))\n",
       "                .enter().append(\"path\")\n",
       "                .attr(\"class\", \"link\")\n",
       "                .attr(\"d\", function(d) {\n",
       "                    return \"M\" + d.y + \",\" + d.x\n",
       "                        + \"C\" + (d.y + d.parent.y) / 2 + \",\" + d.x\n",
       "                        + \" \" + (d.y + d.parent.y) / 2 + \",\" + d.parent.x\n",
       "                        + \" \" + d.parent.y + \",\" + d.parent.x;\n",
       "                });\n",
       "        </script>\n",
       "    </body>\n",
       "    </html>\n",
       "    "
      ],
      "text/plain": [
       "<IPython.core.display.HTML object>"
      ]
     },
     "metadata": {},
     "output_type": "display_data"
    }
   ],
   "source": [
    "km.visualize(tree_data)"
   ]
  },
  {
   "cell_type": "code",
   "execution_count": null,
   "metadata": {},
   "outputs": [],
   "source": []
  }
 ],
 "metadata": {
  "kernelspec": {
   "display_name": "kmapper_dev",
   "language": "python",
   "name": "python3"
  },
  "language_info": {
   "codemirror_mode": {
    "name": "ipython",
    "version": 3
   },
   "file_extension": ".py",
   "mimetype": "text/x-python",
   "name": "python",
   "nbconvert_exporter": "python",
   "pygments_lexer": "ipython3",
   "version": "3.9.18"
  }
 },
 "nbformat": 4,
 "nbformat_minor": 2
}
